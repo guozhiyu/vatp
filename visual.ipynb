{
 "cells": [
  {
   "cell_type": "code",
   "execution_count": 1,
   "id": "390ecd24-f2cf-4132-ac24-d3313a1346aa",
   "metadata": {},
   "outputs": [],
   "source": [
    "from transformers import AutoTokenizer, AutoModelForCausalLM\n",
    "\n",
    "import torch\n",
    "import os\n",
    "import matplotlib\n",
    "import seaborn as sns\n",
    "import numpy as np\n",
    "import matplotlib.pyplot as plt\n",
    "from mpl_toolkits.mplot3d import Axes3D\n",
    "from matplotlib.colors import Normalize"
   ]
  },
  {
   "cell_type": "code",
   "execution_count": 4,
   "id": "c4485166-8029-40f2-aefc-7e847284dfa6",
   "metadata": {},
   "outputs": [
    {
     "data": {
      "application/vnd.jupyter.widget-view+json": {
       "model_id": "21fcdc8aaf0044e28f47f2ef8c574ee4",
       "version_major": 2,
       "version_minor": 0
      },
      "text/plain": [
       "Loading checkpoint shards:   0%|          | 0/2 [00:00<?, ?it/s]"
      ]
     },
     "metadata": {},
     "output_type": "display_data"
    }
   ],
   "source": [
    "model_name=\"meta-llama/Llama-2-7b-chat-hf\"\n",
    "# model_name=\"lmsys/vicuna-7b-v1.5-16k\"\n",
    "# model_name=\"mistralai/Mistral-7B-Instruct-v0.2\"\n",
    "model = AutoModelForCausalLM.from_pretrained(model_name, torch_dtype=torch.float16, low_cpu_mem_usage=True,attn_implementation=\"eager\", device_map=\"auto\")\n",
    "\n",
    "tokenizer=AutoTokenizer.from_pretrained(model_name, use_fast=False)"
   ]
  },
  {
   "cell_type": "code",
   "execution_count": 11,
   "id": "00345f48-dc57-481b-baa9-33d5e5d23593",
   "metadata": {},
   "outputs": [],
   "source": [
    "FONTSIZE = 16\n",
    "\n",
    "font_config = {'font.size': FONTSIZE, 'font.family': 'DejaVu Math TeX Gyre'}\n",
    "plt.rcParams.update(font_config)\n",
    "plt.rcParams[\"figure.figsize\"] = (4, 4.5)\n",
    "\n",
    "model_name = 'Llama-2-7b-hf' # replace with your model name\n",
    "# model_name = 'gemma-7b-hf'\n",
    "# model_name=\"Mistral-7B-Instruct-v0.2\"\n",
    "# model_name=\"Meta-Llama-3-8B\"\n",
    "# generate kv cache and attention\n",
    "\n",
    "sample=\"The following are multiple choice questions (with answers) about machine learning.\\n\\n A 6-sided die is rolled 15 times and the results are: side 1 comes up 0 times;\"\n",
    "valenc = tokenizer(sample, return_tensors='pt', add_special_tokens=False).input_ids.to(\"cuda:0\")\n",
    "with torch.no_grad():\n",
    "    outputs = model(valenc, use_cache=True, output_attentions=True)\n",
    "past_key_values = outputs.past_key_values\n",
    "attentions = outputs.attentions\n",
    "# torch.save(past_key_values, f'./{model_name}_kvcache.pt')\n",
    "# torch.save(attentions, f'./{model_name}_attention.pt')\n",
    "\n",
    "# model = 'Llama-2-7b-hf' # replace with your model name\n",
    "# kv_filename = f'./{model_name}_kvcache.pt'\n",
    "# attn_filename = f'./{model_name}_attention.pt'\n",
    "# kvcache = torch.load(kv_filename, map_location='cpu')\n",
    "# attentions = torch.load(attn_filename, map_location='cpu')\n",
    "\n",
    "kvcache = past_key_values\n",
    "# attentions ="
   ]
  },
  {
   "cell_type": "code",
   "execution_count": 12,
   "id": "68dad272-f705-4a55-8173-e457befa492f",
   "metadata": {
    "scrolled": true
   },
   "outputs": [],
   "source": [
    "layer_id=20\n",
    "head_id=21\n",
    "k, v = kvcache[layer_id][0].squeeze(0), kvcache[layer_id][1].squeeze(0)\n",
    "\n",
    "k = k.transpose(0, 1).abs().detach()\n",
    "v = v.transpose(0, 1).abs().detach()\n",
    "k, v = k[:, head_id, :], v[:, head_id, :]\n",
    "l1_norms=v.norm(p=1,dim=-1)\n",
    "# print(l1_norms)\n",
    "atten=attentions[layer_id][0,head_id].cpu()"
   ]
  },
  {
   "cell_type": "code",
   "execution_count": 17,
   "id": "c2568481-4282-4e87-abb6-02dd4c216549",
   "metadata": {},
   "outputs": [
    {
     "data": {
      "image/png": "[encoded data removed]",
      "text/plain": [
       "<Figure size 1200x600 with 1 Axes>"
      ]
     },
     "metadata": {},
     "output_type": "display_data"
    }
   ],
   "source": [
    "tokens = np.arange(1, len(l1_norms) + 1)\n",
    "\n",
    "# Plotting the L1 norms\n",
    "l1_norms=l1_norms.cpu()\n",
    "plt.figure(figsize=(12, 6))\n",
    "plt.bar(tokens, l1_norms.cpu(), color='skyblue')\n",
    "plt.xlabel('Token Index')\n",
    "plt.ylabel('L1 Norm')\n",
    "plt.title(f'Layer:{layer_id+1} Head:{head_id+1}')\n",
    "plt.ylim(0, 110)\n",
    "\n",
    "highlight_tokens = [1, 14]\n",
    "highlight_values = [l1_norms[i-1] for i in highlight_tokens]\n",
    "plt.bar(highlight_tokens, highlight_values, color='red')\n",
    "# plt.savefig(f\"l1norm{model_name}_layer{layer_id+1}_head{head_id+1}.pdf\", bbox_inches=\"tight\", dpi=200)\n",
    "plt.show()\n",
    "# plt.savefig(f\"{model_name}_layer{layer_id+1}_head{head_id+1}.pdf\", bbox_inches=\"tight\", dpi=200)"
   ]
  },
  {
   "cell_type": "code",
   "execution_count": null,
   "id": "060aa60b-08b4-4159-aa9b-400035e6e568",
   "metadata": {},
   "outputs": [],
   "source": [
    "def plot_attn_sub(ax, corr, model_name, layer_id):\n",
    "    mask = np.zeros_like(corr)\n",
    "    mask[np.triu_indices_from(mask, k=1)] = True\n",
    "\n",
    "    # Apply log scale\n",
    "    log_corr = np.log10(corr + 1e-6)  # Adding a small constant to avoid log(0)\n",
    "\n",
    "    sns.heatmap(log_corr, mask=mask, square=True, ax=ax, cmap=\"YlGnBu\", cbar_kws={\"shrink\": 1.0, \"pad\": 0.01, \"aspect\": 50})\n",
    "\n",
    "    ax.set_facecolor(\"whitesmoke\")\n",
    "    cax = ax.figure.axes[-1]\n",
    "    cax.tick_params(labelsize=18)\n",
    "\n",
    "    ax.tick_params(axis='x', which='major')\n",
    "    ax.set(xticklabels=[])\n",
    "    ax.set(yticklabels=[])\n",
    "    ax.tick_params(left=False, bottom=False)\n",
    "    ax.set_title(f\"Layer:{layer_id+1} Head:{head_id+1}\", fontsize=24, fontweight=\"bold\")\n",
    "\n",
    "def plot_attn(attn_logits, model_name, layer_id):\n",
    "    fig, axs = plt.subplots(nrows=1, ncols=1, figsize=(8, 4.75))\n",
    "    fig.tight_layout()\n",
    "    plt.subplots_adjust(wspace=0.15)\n",
    "\n",
    "    corr = attn_logits.numpy()\n",
    "    corr = corr.astype(\"float64\")\n",
    "\n",
    "    plot_attn_sub(axs, corr, model_name, layer_id)\n",
    "    # plt.savefig(f\"attention{model_name}_layer{layer_id+1}_head{head_id+1}.pdf\", bbox_inches=\"tight\", dpi=200)\n",
    "    plt.show()\n",
    "\n",
    "\n",
    "plot_attn(atten,model_name,layer_id)"
   ]
  }
 ],
 "metadata": {
  "kernelspec": {
   "display_name": "Python 3 (ipykernel)",
   "language": "python",
   "name": "python3"
  },
  "language_info": {
   "codemirror_mode": {
    "name": "ipython",
    "version": 3
   },
   "file_extension": ".py",
   "mimetype": "text/x-python",
   "name": "python",
   "nbconvert_exporter": "python",
   "pygments_lexer": "ipython3",
   "version": "3.9.19"
  }
 },
 "nbformat": 4,
 "nbformat_minor": 5
}
